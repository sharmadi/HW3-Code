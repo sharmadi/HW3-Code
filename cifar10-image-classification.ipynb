{
 "cells": [
  {
   "cell_type": "markdown",
   "id": "6f33f054",
   "metadata": {
    "id": "c8NwpJcH5guh",
    "papermill": {
     "duration": 0.018906,
     "end_time": "2021-10-29T04:17:42.476040",
     "exception": false,
     "start_time": "2021-10-29T04:17:42.457134",
     "status": "completed"
    },
    "tags": []
   },
   "source": [
    "## 1. Load and Normalize `CIFAR10`"
   ]
  },
  {
   "cell_type": "markdown",
   "id": "6e9ed7eb",
   "metadata": {},
   "source": [
    "In computer-vision, CIFAR-10  is an established benchmark dataset used object recognition. It is a subset of 80 million tiny images. CIFAR-10 consists of $60,000$ $32\\times32$ color images containing objects of one of 10 classes (with 6000 images per class). It was collected by Alex Krizhevsky, Vinod Nair, and Geoffrey Hinton.\n",
    "\n",
    "The classes represented in the dataset are:\n",
    "\n",
    "* airplane \n",
    "* automobile \n",
    "* bird \n",
    "* cat \n",
    "* deer \n",
    "* dog \n",
    "* frog \n",
    "* horse \n",
    "* ship \n",
    "* truck"
   ]
  },
  {
   "cell_type": "code",
   "execution_count": 5,
   "id": "6134afb6",
   "metadata": {},
   "outputs": [
    {
     "name": "stdout",
     "output_type": "stream",
     "text": [
      "Collecting torchvision\n",
      "  Downloading torchvision-0.12.0-cp38-cp38-macosx_10_9_x86_64.whl (1.3 MB)\n",
      "\u001b[K     |████████████████████████████████| 1.3 MB 1.1 MB/s eta 0:00:01     |███████████                     | 450 kB 1.1 MB/s eta 0:00:01\n",
      "\u001b[?25hCollecting torch==1.11.0\n",
      "  Downloading torch-1.11.0-cp38-none-macosx_10_9_x86_64.whl (129.9 MB)\n",
      "\u001b[K     |████████████████████████████████| 129.9 MB 95 kB/s  eta 0:00:01    |████████▋                       | 34.9 MB 884 kB/s eta 0:01:48     |███████████████████████▋        | 95.8 MB 407 kB/s eta 0:01:24     |███████████████████████▉        | 96.8 MB 407 kB/s eta 0:01:22     |███████████████████████████████▋| 128.5 MB 266 kB/s eta 0:00:06\n",
      "\u001b[?25hRequirement already satisfied: numpy in /usr/local/anaconda3/lib/python3.8/site-packages (from torchvision) (1.20.1)\n",
      "Requirement already satisfied: typing-extensions in /usr/local/anaconda3/lib/python3.8/site-packages (from torchvision) (3.7.4.3)\n",
      "Requirement already satisfied: requests in /usr/local/anaconda3/lib/python3.8/site-packages (from torchvision) (2.25.1)\n",
      "Requirement already satisfied: pillow!=8.3.*,>=5.3.0 in /usr/local/anaconda3/lib/python3.8/site-packages (from torchvision) (8.2.0)\n",
      "Requirement already satisfied: chardet<5,>=3.0.2 in /usr/local/anaconda3/lib/python3.8/site-packages (from requests->torchvision) (4.0.0)\n",
      "Requirement already satisfied: certifi>=2017.4.17 in /usr/local/anaconda3/lib/python3.8/site-packages (from requests->torchvision) (2020.12.5)\n",
      "Requirement already satisfied: idna<3,>=2.5 in /usr/local/anaconda3/lib/python3.8/site-packages (from requests->torchvision) (2.10)\n",
      "Requirement already satisfied: urllib3<1.27,>=1.21.1 in /usr/local/anaconda3/lib/python3.8/site-packages (from requests->torchvision) (1.26.4)\n",
      "Installing collected packages: torch, torchvision\n",
      "Successfully installed torch-1.11.0 torchvision-0.12.0\n",
      "Note: you may need to restart the kernel to use updated packages.\n"
     ]
    }
   ],
   "source": [
    "pip install torchvision"
   ]
  },
  {
   "cell_type": "code",
   "execution_count": 2,
   "id": "736d91e2",
   "metadata": {
    "execution": {
     "iopub.execute_input": "2021-10-29T04:17:42.517725Z",
     "iopub.status.busy": "2021-10-29T04:17:42.517050Z",
     "iopub.status.idle": "2021-10-29T04:17:43.913197Z",
     "shell.execute_reply": "2021-10-29T04:17:43.912397Z",
     "shell.execute_reply.started": "2021-10-28T18:01:33.773585Z"
    },
    "id": "t9BWFqEQsfhm",
    "papermill": {
     "duration": 1.421717,
     "end_time": "2021-10-29T04:17:43.913349",
     "exception": false,
     "start_time": "2021-10-29T04:17:42.491632",
     "status": "completed"
    },
    "tags": []
   },
   "outputs": [],
   "source": [
    "import torch \n",
    "import torchvision\n",
    "import torchvision.transforms as transforms"
   ]
  },
  {
   "cell_type": "markdown",
   "id": "2a57cc98",
   "metadata": {},
   "source": [
    "### Image Augumentation\n",
    "- We have to do this job before making our model. The expectation that augmentation will prevent overfitting. This is not guaranteed and at the current stage in the class where we have not covered the topic is a dirty hack. Please treat it as such. namely - an artificial way to increase training data without relying on the unknown data generation process.\n",
    "\n",
    "To additionally reduce the chance of overfitting, let's carry out Normalization and Regularization as below"
   ]
  },
  {
   "cell_type": "code",
   "execution_count": 4,
   "id": "6d7bec1a",
   "metadata": {},
   "outputs": [],
   "source": [
    "transform = transforms.Compose([ transforms.ToTensor(), transforms.Normalize([0.35, 0.35, 0.35], [0.35, 0.35, 0.35])])######### YOUR CODE HERE #########"
   ]
  },
  {
   "cell_type": "code",
   "execution_count": 5,
   "id": "9f9482d8",
   "metadata": {},
   "outputs": [
    {
     "name": "stdout",
     "output_type": "stream",
     "text": [
      "Files already downloaded and verified\n",
      "Files already downloaded and verified\n"
     ]
    }
   ],
   "source": [
    "batch_size = 4\n",
    "\n",
    "trainset = torchvision.datasets.CIFAR10(root = './data',train=True, download=True, transform=transform)\n",
    "trainloader = torch.utils.data.DataLoader(trainset, batch_size=batch_size, num_workers=0, shuffle=True)\n",
    "\n",
    "testset = torchvision.datasets.CIFAR10(root = './data',train=False, download=True, transform=transform)\n",
    "testloader = torch.utils.data.DataLoader(testset, batch_size=batch_size, num_workers=0, shuffle=False)\n",
    "\n",
    "classes = ('plane', 'car', 'bird', 'cat',\n",
    "           'deer', 'dog', 'frog', 'horse', 'ship', 'truck')"
   ]
  },
  {
   "cell_type": "code",
   "execution_count": 6,
   "id": "eafc3500",
   "metadata": {
    "execution": {
     "iopub.execute_input": "2021-10-29T04:17:51.848768Z",
     "iopub.status.busy": "2021-10-29T04:17:51.847792Z",
     "iopub.status.idle": "2021-10-29T04:17:52.256318Z",
     "shell.execute_reply": "2021-10-29T04:17:52.256945Z",
     "shell.execute_reply.started": "2021-10-28T18:01:35.302874Z"
    },
    "id": "OnMX-ChP6Ks5",
    "outputId": "a42f2911-6d3d-4909-c8f4-6e7f33e17c69",
    "papermill": {
     "duration": 0.428599,
     "end_time": "2021-10-29T04:17:52.257115",
     "exception": false,
     "start_time": "2021-10-29T04:17:51.828516",
     "status": "completed"
    },
    "tags": []
   },
   "outputs": [
    {
     "name": "stderr",
     "output_type": "stream",
     "text": [
      "Clipping input data to the valid range for imshow with RGB data ([0..1] for floats or [0..255] for integers).\n"
     ]
    },
    {
     "data": {
      "image/png": "[encoded data removed]",
      "text/plain": [
       "<Figure size 432x288 with 1 Axes>"
      ]
     },
     "metadata": {
      "needs_background": "light"
     },
     "output_type": "display_data"
    },
    {
     "name": "stdout",
     "output_type": "stream",
     "text": [
      "  car  deer truck  bird\n"
     ]
    }
   ],
   "source": [
    "import matplotlib.pyplot as plt\n",
    "import numpy as np\n",
    "\n",
    "# functions to show an image\n",
    "\n",
    "\n",
    "def imshow(img):\n",
    "    img = img / 2 + 0.5     # unnormalize\n",
    "    npimg = img.numpy()\n",
    "    plt.imshow(np.transpose(npimg, (1, 2, 0)))\n",
    "    plt.show()\n",
    "\n",
    "\n",
    "# get some random training images\n",
    "dataiter = iter(trainloader)\n",
    "images, labels = dataiter.next()\n",
    "\n",
    "# show images\n",
    "imshow(torchvision.utils.make_grid(images))\n",
    "# print labels\n",
    "print(' '.join('%5s' % classes[labels[j]] for j in range(batch_size)))"
   ]
  },
  {
   "cell_type": "markdown",
   "id": "2300973c",
   "metadata": {
    "id": "iPV4Y6Hm9-Jz",
    "papermill": {
     "duration": 0.018236,
     "end_time": "2021-10-29T04:17:52.293759",
     "exception": false,
     "start_time": "2021-10-29T04:17:52.275523",
     "status": "completed"
    },
    "tags": []
   },
   "source": [
    "## 2. Define a Convolution Neural Network"
   ]
  },
  {
   "cell_type": "code",
   "execution_count": 39,
   "id": "8b8bcff8",
   "metadata": {
    "execution": {
     "iopub.execute_input": "2021-10-29T04:17:52.335619Z",
     "iopub.status.busy": "2021-10-29T04:17:52.334610Z",
     "iopub.status.idle": "2021-10-29T04:17:52.349266Z",
     "shell.execute_reply": "2021-10-29T04:17:52.349846Z"
    },
    "id": "jT8F-sSI90Ug",
    "papermill": {
     "duration": 0.037627,
     "end_time": "2021-10-29T04:17:52.350032",
     "exception": false,
     "start_time": "2021-10-29T04:17:52.312405",
     "status": "completed"
    },
    "tags": []
   },
   "outputs": [],
   "source": [
    "import torch.nn as nn\n",
    "import torch.nn.functional as F\n",
    "\n",
    "\n",
    "class Net(nn.Module):\n",
    "    def __init__(self):\n",
    "        super().__init__()\n",
    "        ######### YOUR CODE HERE #########\n",
    "        self.conv1 = nn.Conv2d(3, 6, 5)\n",
    "        self.pool = nn.MaxPool2d(2)\n",
    "        self.conv2 = nn.Conv2d(6, 16, 5)\n",
    "        self.fc1 = nn.Linear(16 * 5 * 5, 120)\n",
    "        self.fc2 = nn.Linear(120, 84)\n",
    "        self.fc3 = nn.Linear(84, 10)        \n",
    "        ######### END YOUR CODE #########\n",
    "\n",
    "    def forward(self, x):\n",
    "        ######### YOUR CODE HERE #########\n",
    "        x = self.pool(F.relu(self.conv1(x)))\n",
    "        x = self.pool(F.relu(self.conv2(x)))\n",
    "        x = torch.flatten(x, 1) # flatten all dimensions except batch\n",
    "        x = F.relu(self.fc1(x))\n",
    "        x = F.relu(self.fc2(x))\n",
    "        x = self.fc3(x)        \n",
    "        ######### END YOUR CODE #########\n",
    "        return x\n",
    "\n",
    "\n",
    "net = Net() "
   ]
  },
  {
   "cell_type": "markdown",
   "id": "174832fd",
   "metadata": {
    "id": "Lsxxt3L_tdKj",
    "papermill": {
     "duration": 0.018465,
     "end_time": "2021-10-29T04:17:52.387140",
     "exception": false,
     "start_time": "2021-10-29T04:17:52.368675",
     "status": "completed"
    },
    "tags": []
   },
   "source": [
    "## 3. Define a loss function and optimizer"
   ]
  },
  {
   "cell_type": "code",
   "execution_count": 40,
   "id": "d647717e",
   "metadata": {
    "execution": {
     "iopub.execute_input": "2021-10-29T04:17:52.428746Z",
     "iopub.status.busy": "2021-10-29T04:17:52.427774Z",
     "iopub.status.idle": "2021-10-29T04:17:52.432944Z",
     "shell.execute_reply": "2021-10-29T04:17:52.433546Z",
     "shell.execute_reply.started": "2021-10-28T18:01:35.59282Z"
    },
    "id": "NklYL9ZW_Mvc",
    "papermill": {
     "duration": 0.027723,
     "end_time": "2021-10-29T04:17:52.433717",
     "exception": false,
     "start_time": "2021-10-29T04:17:52.405994",
     "status": "completed"
    },
    "tags": []
   },
   "outputs": [],
   "source": [
    "#using classification cross-entropy loss and SGD with momentum\n",
    "import torch.optim as optim\n",
    "\n",
    "criterion = nn.CrossEntropyLoss()######### YOUR CODE HERE #########\n",
    "optimizer = optim.SGD(net.parameters(), lr=0.002, momentum=0.003)######### YOUR CODE HERE #########"
   ]
  },
  {
   "cell_type": "markdown",
   "id": "e5b9ea3a",
   "metadata": {
    "id": "HYBLn8xjt5fv",
    "papermill": {
     "duration": 0.018249,
     "end_time": "2021-10-29T04:17:52.470853",
     "exception": false,
     "start_time": "2021-10-29T04:17:52.452604",
     "status": "completed"
    },
    "tags": []
   },
   "source": [
    "## 4.Train the Network "
   ]
  },
  {
   "cell_type": "code",
   "execution_count": 41,
   "id": "fbd93e6e",
   "metadata": {
    "execution": {
     "iopub.execute_input": "2021-10-29T04:17:52.632315Z",
     "iopub.status.busy": "2021-10-29T04:17:52.630515Z",
     "iopub.status.idle": "2021-10-29T04:22:35.989257Z",
     "shell.execute_reply": "2021-10-29T04:22:35.989816Z"
    },
    "id": "Yvui0Dk4tytX",
    "outputId": "281bb6f7-7be5-49df-9b28-63c4bf3be40b",
    "papermill": {
     "duration": 283.500488,
     "end_time": "2021-10-29T04:22:35.990261",
     "exception": false,
     "start_time": "2021-10-29T04:17:52.489773",
     "status": "completed"
    },
    "tags": []
   },
   "outputs": [
    {
     "name": "stdout",
     "output_type": "stream",
     "text": [
      "[1,  2000] loss: 2.301\n",
      "[1,  4000] loss: 2.263\n",
      "[1,  6000] loss: 2.059\n",
      "[1,  8000] loss: 1.966\n",
      "[1, 10000] loss: 1.867\n",
      "[1, 12000] loss: 1.757\n",
      "[2,  2000] loss: 1.691\n",
      "[2,  4000] loss: 1.600\n",
      "[2,  6000] loss: 1.577\n",
      "[2,  8000] loss: 1.536\n",
      "[2, 10000] loss: 1.508\n",
      "[2, 12000] loss: 1.484\n",
      "[3,  2000] loss: 1.433\n",
      "[3,  4000] loss: 1.435\n",
      "[3,  6000] loss: 1.418\n",
      "[3,  8000] loss: 1.398\n",
      "[3, 10000] loss: 1.375\n",
      "[3, 12000] loss: 1.359\n",
      "[4,  2000] loss: 1.306\n",
      "[4,  4000] loss: 1.324\n",
      "[4,  6000] loss: 1.308\n",
      "[4,  8000] loss: 1.294\n",
      "[4, 10000] loss: 1.302\n",
      "[4, 12000] loss: 1.306\n",
      "[5,  2000] loss: 1.244\n",
      "[5,  4000] loss: 1.251\n",
      "[5,  6000] loss: 1.239\n",
      "[5,  8000] loss: 1.219\n",
      "[5, 10000] loss: 1.202\n",
      "[5, 12000] loss: 1.220\n",
      "Finished Training\n"
     ]
    }
   ],
   "source": [
    "#looping over our data iterator and feed the inputs to the network and optimize\n",
    "######### YOUR CODE HERE #########\n",
    "iteration = 5\n",
    "for epoch in range(iteration):  # loop over the dataset multiple times\n",
    "\n",
    "    running_loss = 0.0\n",
    "        ######### YOUR CODE HERE #########\n",
    "    for i, data in enumerate(trainloader, 0):\n",
    "        \n",
    "        # get inputs/outputs from data\n",
    "        batch, labels = data\n",
    "        optimizer.zero_grad()\n",
    "        y_pred = net(batch)\n",
    "        \n",
    "        # calculate the loss\n",
    "        loss = criterion(y_pred, labels)\n",
    "        \n",
    "        # back propagate\n",
    "        loss.backward()\n",
    "        \n",
    "        # update weights\n",
    "        optimizer.step()\n",
    "        \n",
    "        ######### END YOUR CODE #########\n",
    "        # print statistics\n",
    "        running_loss += loss.item()\n",
    "        if i % 2000 == 1999:    # print every 2000 mini-batches\n",
    "            print('[%d, %5d] loss: %.3f' %\n",
    "                  (epoch + 1, i + 1, running_loss / 2000))\n",
    "            running_loss = 0.0\n",
    "\n",
    "print('Finished Training')"
   ]
  },
  {
   "cell_type": "markdown",
   "id": "a48ffd39",
   "metadata": {
    "id": "vN9wY9sayW7e",
    "papermill": {
     "duration": 0.027475,
     "end_time": "2021-10-29T04:22:36.046835",
     "exception": false,
     "start_time": "2021-10-29T04:22:36.019360",
     "status": "completed"
    },
    "tags": []
   },
   "source": [
    "#### Saving our `model` "
   ]
  },
  {
   "cell_type": "code",
   "execution_count": 42,
   "id": "5114e4e1",
   "metadata": {
    "execution": {
     "iopub.execute_input": "2021-10-29T04:22:36.109582Z",
     "iopub.status.busy": "2021-10-29T04:22:36.108592Z",
     "iopub.status.idle": "2021-10-29T04:22:36.114025Z",
     "shell.execute_reply": "2021-10-29T04:22:36.113503Z"
    },
    "id": "KI0ypbV8wmgX",
    "papermill": {
     "duration": 0.03922,
     "end_time": "2021-10-29T04:22:36.114167",
     "exception": false,
     "start_time": "2021-10-29T04:22:36.074947",
     "status": "completed"
    },
    "tags": []
   },
   "outputs": [],
   "source": [
    "PATH = './cifar_net.pth'######### YOUR CODE HERE #########\n",
    "###### SAVE YOUR MODEL #########\n",
    "torch.save(net.state_dict(), PATH)\n",
    "###### END YOUR CODE #########"
   ]
  },
  {
   "cell_type": "markdown",
   "id": "09b02e3a",
   "metadata": {
    "id": "yZfZMhiBzgzT",
    "papermill": {
     "duration": 0.027955,
     "end_time": "2021-10-29T04:22:36.170479",
     "exception": false,
     "start_time": "2021-10-29T04:22:36.142524",
     "status": "completed"
    },
    "tags": []
   },
   "source": [
    "## 5. Test the Network on the test data"
   ]
  },
  {
   "cell_type": "markdown",
   "id": "27312158",
   "metadata": {
    "id": "UCk85dW9zuEP",
    "papermill": {
     "duration": 0.027557,
     "end_time": "2021-10-29T04:22:36.226278",
     "exception": false,
     "start_time": "2021-10-29T04:22:36.198721",
     "status": "completed"
    },
    "tags": []
   },
   "source": [
    "After training the network for 2 passes over the training dataset \n",
    "We will now predict the class label that the neural network outputs to check \n",
    "if the network has learnt anything. \n",
    "Now, displaying the images from the test data"
   ]
  },
  {
   "cell_type": "code",
   "execution_count": 43,
   "id": "f3479a60",
   "metadata": {
    "execution": {
     "iopub.execute_input": "2021-10-29T04:22:36.286379Z",
     "iopub.status.busy": "2021-10-29T04:22:36.285455Z",
     "iopub.status.idle": "2021-10-29T04:22:36.583790Z",
     "shell.execute_reply": "2021-10-29T04:22:36.584255Z"
    },
    "id": "73TBpjLwzco3",
    "outputId": "d0df8e2e-6481-48de-d8dc-c9fa07d599a2",
    "papermill": {
     "duration": 0.33012,
     "end_time": "2021-10-29T04:22:36.584444",
     "exception": false,
     "start_time": "2021-10-29T04:22:36.254324",
     "status": "completed"
    },
    "tags": []
   },
   "outputs": [
    {
     "name": "stderr",
     "output_type": "stream",
     "text": [
      "Clipping input data to the valid range for imshow with RGB data ([0..1] for floats or [0..255] for integers).\n"
     ]
    },
    {
     "data": {
      "image/png": "[encoded data removed]",
      "text/plain": [
       "<Figure size 432x288 with 1 Axes>"
      ]
     },
     "metadata": {
      "needs_background": "light"
     },
     "output_type": "display_data"
    },
    {
     "name": "stdout",
     "output_type": "stream",
     "text": [
      "GroundTruth:    cat  ship  ship plane\n"
     ]
    }
   ],
   "source": [
    "dataiter = iter(testloader)\n",
    "images, labels = dataiter.next()\n",
    "\n",
    "# print images\n",
    "imshow(torchvision.utils.make_grid(images))\n",
    "print('GroundTruth: ', ' '.join('%5s' % classes[labels[j]] for j in range(4)))"
   ]
  },
  {
   "cell_type": "code",
   "execution_count": 44,
   "id": "3ea260c4",
   "metadata": {
    "execution": {
     "iopub.execute_input": "2021-10-29T04:22:36.650119Z",
     "iopub.status.busy": "2021-10-29T04:22:36.649485Z",
     "iopub.status.idle": "2021-10-29T04:22:36.661337Z",
     "shell.execute_reply": "2021-10-29T04:22:36.660792Z"
    },
    "id": "xSMa0DBy0th8",
    "outputId": "d25f1acb-61b4-46fd-a752-56819d480867",
    "papermill": {
     "duration": 0.046638,
     "end_time": "2021-10-29T04:22:36.661523",
     "exception": false,
     "start_time": "2021-10-29T04:22:36.614885",
     "status": "completed"
    },
    "tags": []
   },
   "outputs": [
    {
     "data": {
      "text/plain": [
       "<All keys matched successfully>"
      ]
     },
     "execution_count": 44,
     "metadata": {},
     "output_type": "execute_result"
    }
   ],
   "source": [
    "net = Net()\n",
    "net.load_state_dict(torch.load(PATH))"
   ]
  },
  {
   "cell_type": "markdown",
   "id": "eb3544c1",
   "metadata": {
    "id": "lyFDdDkp1jIJ",
    "papermill": {
     "duration": 0.03051,
     "end_time": "2021-10-29T04:22:36.723034",
     "exception": false,
     "start_time": "2021-10-29T04:22:36.692524",
     "status": "completed"
    },
    "tags": []
   },
   "source": [
    "What NN thinks of the above images"
   ]
  },
  {
   "cell_type": "code",
   "execution_count": 45,
   "id": "4bc4d780",
   "metadata": {
    "execution": {
     "iopub.execute_input": "2021-10-29T04:22:36.792132Z",
     "iopub.status.busy": "2021-10-29T04:22:36.791141Z",
     "iopub.status.idle": "2021-10-29T04:22:36.794223Z",
     "shell.execute_reply": "2021-10-29T04:22:36.794887Z"
    },
    "id": "iGVmw_PZ1Ixu",
    "papermill": {
     "duration": 0.040318,
     "end_time": "2021-10-29T04:22:36.795073",
     "exception": false,
     "start_time": "2021-10-29T04:22:36.754755",
     "status": "completed"
    },
    "tags": []
   },
   "outputs": [],
   "source": [
    "outputs = net(images)"
   ]
  },
  {
   "cell_type": "code",
   "execution_count": 46,
   "id": "e3fa4604",
   "metadata": {
    "execution": {
     "iopub.execute_input": "2021-10-29T04:22:36.863378Z",
     "iopub.status.busy": "2021-10-29T04:22:36.862705Z",
     "iopub.status.idle": "2021-10-29T04:22:36.868828Z",
     "shell.execute_reply": "2021-10-29T04:22:36.868164Z"
    },
    "id": "Udz2P0Px1LSX",
    "outputId": "1e123d60-5a69-4b20-f377-aaa21ce019a6",
    "papermill": {
     "duration": 0.042813,
     "end_time": "2021-10-29T04:22:36.868972",
     "exception": false,
     "start_time": "2021-10-29T04:22:36.826159",
     "status": "completed"
    },
    "tags": []
   },
   "outputs": [
    {
     "name": "stdout",
     "output_type": "stream",
     "text": [
      "Predicted:    cat   car   car  ship\n"
     ]
    }
   ],
   "source": [
    "_, predicted = torch.max(outputs, 1)\n",
    "\n",
    "print('Predicted: ', ' '.join('%5s' % classes[predicted[j]]\n",
    "                              for j in range(4)))"
   ]
  },
  {
   "cell_type": "markdown",
   "id": "77aadf2b",
   "metadata": {
    "id": "gsR1ikKx11q_",
    "papermill": {
     "duration": 0.03113,
     "end_time": "2021-10-29T04:22:36.931595",
     "exception": false,
     "start_time": "2021-10-29T04:22:36.900465",
     "status": "completed"
    },
    "tags": []
   },
   "source": [
    "#### Performance of the model on the `whole dataset`"
   ]
  },
  {
   "cell_type": "code",
   "execution_count": 47,
   "id": "ffea7db3",
   "metadata": {
    "execution": {
     "iopub.execute_input": "2021-10-29T04:22:37.004302Z",
     "iopub.status.busy": "2021-10-29T04:22:37.003366Z",
     "iopub.status.idle": "2021-10-29T04:22:44.313367Z",
     "shell.execute_reply": "2021-10-29T04:22:44.313900Z"
    },
    "id": "kkim_7GO1v4a",
    "outputId": "3bcb6cd7-561f-4785-fefb-df0d77e2869c",
    "papermill": {
     "duration": 7.35135,
     "end_time": "2021-10-29T04:22:44.314082",
     "exception": false,
     "start_time": "2021-10-29T04:22:36.962732",
     "status": "completed"
    },
    "tags": []
   },
   "outputs": [
    {
     "name": "stdout",
     "output_type": "stream",
     "text": [
      "Accuracy of the network on the 10000 test images: 55 %\n"
     ]
    }
   ],
   "source": [
    "correct = 0\n",
    "total = 0\n",
    "# since we're not training, we don't need to calculate the gradients for our outputs\n",
    "with torch.no_grad():\n",
    "    for data in testloader:\n",
    "        images, labels = data\n",
    "        # calculate outputs by running images through the network\n",
    "        outputs = net(images)\n",
    "        # the class with the highest energy is what we choose as prediction\n",
    "        _, predicted = torch.max(outputs.data, 1)\n",
    "        total += labels.size(0)\n",
    "        correct += (predicted == labels).sum().item()\n",
    "\n",
    "print('Accuracy of the network on the 10000 test images: %d %%' % (\n",
    "    100 * correct / total))"
   ]
  },
  {
   "cell_type": "markdown",
   "id": "5d4746e7",
   "metadata": {
    "id": "JgyqN88m2TAE",
    "papermill": {
     "duration": 0.031485,
     "end_time": "2021-10-29T04:22:44.377500",
     "exception": false,
     "start_time": "2021-10-29T04:22:44.346015",
     "status": "completed"
    },
    "tags": []
   },
   "source": [
    "#### Checking the particular class performance "
   ]
  },
  {
   "cell_type": "code",
   "execution_count": 48,
   "id": "d68bbc56",
   "metadata": {
    "execution": {
     "iopub.execute_input": "2021-10-29T04:22:44.451759Z",
     "iopub.status.busy": "2021-10-29T04:22:44.450209Z",
     "iopub.status.idle": "2021-10-29T04:22:51.981241Z",
     "shell.execute_reply": "2021-10-29T04:22:51.981746Z"
    },
    "id": "O1te6ogf1_eg",
    "outputId": "6e3cb68d-72a6-4758-fb32-a580d0e3516d",
    "papermill": {
     "duration": 7.572648,
     "end_time": "2021-10-29T04:22:51.981933",
     "exception": false,
     "start_time": "2021-10-29T04:22:44.409285",
     "status": "completed"
    },
    "tags": []
   },
   "outputs": [
    {
     "name": "stdout",
     "output_type": "stream",
     "text": [
      "Accuracy for class plane is: 64.2 %\n",
      "Accuracy for class car   is: 74.9 %\n",
      "Accuracy for class bird  is: 48.7 %\n",
      "Accuracy for class cat   is: 25.6 %\n",
      "Accuracy for class deer  is: 23.1 %\n",
      "Accuracy for class dog   is: 47.2 %\n",
      "Accuracy for class frog  is: 78.1 %\n",
      "Accuracy for class horse is: 66.2 %\n",
      "Accuracy for class ship  is: 69.2 %\n",
      "Accuracy for class truck is: 58.0 %\n"
     ]
    }
   ],
   "source": [
    "# prepare to count predictions for each class\n",
    "correct_pred = {classname: 0 for classname in classes}\n",
    "total_pred = {classname: 0 for classname in classes}\n",
    "\n",
    "# again no gradients needed\n",
    "with torch.no_grad():\n",
    "    for data in testloader:\n",
    "        images, labels = data\n",
    "        outputs = net(images)\n",
    "        _, predictions = torch.max(outputs, 1)\n",
    "        # collect the correct predictions for each class\n",
    "        for label, prediction in zip(labels, predictions):\n",
    "            if label == prediction:\n",
    "                correct_pred[classes[label]] += 1\n",
    "            total_pred[classes[label]] += 1\n",
    "\n",
    "\n",
    "# print accuracy for each class\n",
    "for classname, correct_count in correct_pred.items():\n",
    "    accuracy = 100 * float(correct_count) / total_pred[classname]\n",
    "    print(\"Accuracy for class {:5s} is: {:.1f} %\".format(classname,\n",
    "                                                   accuracy))"
   ]
  },
  {
   "cell_type": "code",
   "execution_count": null,
   "id": "c6798db8",
   "metadata": {},
   "outputs": [],
   "source": []
  }
 ],
 "metadata": {
  "kernelspec": {
   "display_name": "Python 3",
   "language": "python",
   "name": "python3"
  },
  "language_info": {
   "codemirror_mode": {
    "name": "ipython",
    "version": 3
   },
   "file_extension": ".py",
   "mimetype": "text/x-python",
   "name": "python",
   "nbconvert_exporter": "python",
   "pygments_lexer": "ipython3",
   "version": "3.8.8"
  },
  "papermill": {
   "default_parameters": {},
   "duration": 319.639679,
   "end_time": "2021-10-29T04:22:52.931776",
   "environment_variables": {},
   "exception": null,
   "input_path": "__notebook__.ipynb",
   "output_path": "__notebook__.ipynb",
   "parameters": {},
   "start_time": "2021-10-29T04:17:33.292097",
   "version": "2.3.3"
  },
  "widgets": {
   "application/vnd.jupyter.widget-state+json": {
    "state": {
     "08ca9eef10aa4dc3b74366d91ecb9d1c": {
      "model_module": "@jupyter-widgets/controls",
      "model_module_version": "1.5.0",
      "model_name": "DescriptionStyleModel",
      "state": {
       "_model_module": "@jupyter-widgets/controls",
       "_model_module_version": "1.5.0",
       "_model_name": "DescriptionStyleModel",
       "_view_count": null,
       "_view_module": "@jupyter-widgets/base",
       "_view_module_version": "1.2.0",
       "_view_name": "StyleView",
       "description_width": ""
      }
     },
     "5009a4f63f2b4b769a954d81e1dbaf89": {
      "model_module": "@jupyter-widgets/base",
      "model_module_version": "1.2.0",
      "model_name": "LayoutModel",
      "state": {
       "_model_module": "@jupyter-widgets/base",
       "_model_module_version": "1.2.0",
       "_model_name": "LayoutModel",
       "_view_count": null,
       "_view_module": "@jupyter-widgets/base",
       "_view_module_version": "1.2.0",
       "_view_name": "LayoutView",
       "align_content": null,
       "align_items": null,
       "align_self": null,
       "border": null,
       "bottom": null,
       "display": null,
       "flex": null,
       "flex_flow": null,
       "grid_area": null,
       "grid_auto_columns": null,
       "grid_auto_flow": null,
       "grid_auto_rows": null,
       "grid_column": null,
       "grid_gap": null,
       "grid_row": null,
       "grid_template_areas": null,
       "grid_template_columns": null,
       "grid_template_rows": null,
       "height": null,
       "justify_content": null,
       "justify_items": null,
       "left": null,
       "margin": null,
       "max_height": null,
       "max_width": null,
       "min_height": null,
       "min_width": null,
       "object_fit": null,
       "object_position": null,
       "order": null,
       "overflow": null,
       "overflow_x": null,
       "overflow_y": null,
       "padding": null,
       "right": null,
       "top": null,
       "visibility": null,
       "width": null
      }
     },
     "72adf2e5f7464393bac926c6cb859fd8": {
      "model_module": "@jupyter-widgets/controls",
      "model_module_version": "1.5.0",
      "model_name": "HTMLModel",
      "state": {
       "_dom_classes": [],
       "_model_module": "@jupyter-widgets/controls",
       "_model_module_version": "1.5.0",
       "_model_name": "HTMLModel",
       "_view_count": null,
       "_view_module": "@jupyter-widgets/controls",
       "_view_module_version": "1.5.0",
       "_view_name": "HTMLView",
       "description": "",
       "description_tooltip": null,
       "layout": "IPY_MODEL_b9b4832169f94571b9bb9544d21e19f6",
       "placeholder": "​",
       "style": "IPY_MODEL_da51cc4b273048fbb4e603d3008ace9e",
       "value": " 170499072/? [00:03&lt;00:00, 53777625.64it/s]"
      }
     },
     "7ece7a36769b4f26b16830aa2dbb9c56": {
      "model_module": "@jupyter-widgets/controls",
      "model_module_version": "1.5.0",
      "model_name": "ProgressStyleModel",
      "state": {
       "_model_module": "@jupyter-widgets/controls",
       "_model_module_version": "1.5.0",
       "_model_name": "ProgressStyleModel",
       "_view_count": null,
       "_view_module": "@jupyter-widgets/base",
       "_view_module_version": "1.2.0",
       "_view_name": "StyleView",
       "bar_color": null,
       "description_width": ""
      }
     },
     "a39bb8ea6d4f4be1a632c6c105e016fb": {
      "model_module": "@jupyter-widgets/controls",
      "model_module_version": "1.5.0",
      "model_name": "HBoxModel",
      "state": {
       "_dom_classes": [],
       "_model_module": "@jupyter-widgets/controls",
       "_model_module_version": "1.5.0",
       "_model_name": "HBoxModel",
       "_view_count": null,
       "_view_module": "@jupyter-widgets/controls",
       "_view_module_version": "1.5.0",
       "_view_name": "HBoxView",
       "box_style": "",
       "children": [
        "IPY_MODEL_e41e42f67fb141eb8ee4cdf21e4bc6dd",
        "IPY_MODEL_d59db67ff08f46ff92c39cce68f78be0",
        "IPY_MODEL_72adf2e5f7464393bac926c6cb859fd8"
       ],
       "layout": "IPY_MODEL_b4ad89edae6b48b4837cd1ed7b016f54"
      }
     },
     "b4ad89edae6b48b4837cd1ed7b016f54": {
      "model_module": "@jupyter-widgets/base",
      "model_module_version": "1.2.0",
      "model_name": "LayoutModel",
      "state": {
       "_model_module": "@jupyter-widgets/base",
       "_model_module_version": "1.2.0",
       "_model_name": "LayoutModel",
       "_view_count": null,
       "_view_module": "@jupyter-widgets/base",
       "_view_module_version": "1.2.0",
       "_view_name": "LayoutView",
       "align_content": null,
       "align_items": null,
       "align_self": null,
       "border": null,
       "bottom": null,
       "display": null,
       "flex": null,
       "flex_flow": null,
       "grid_area": null,
       "grid_auto_columns": null,
       "grid_auto_flow": null,
       "grid_auto_rows": null,
       "grid_column": null,
       "grid_gap": null,
       "grid_row": null,
       "grid_template_areas": null,
       "grid_template_columns": null,
       "grid_template_rows": null,
       "height": null,
       "justify_content": null,
       "justify_items": null,
       "left": null,
       "margin": null,
       "max_height": null,
       "max_width": null,
       "min_height": null,
       "min_width": null,
       "object_fit": null,
       "object_position": null,
       "order": null,
       "overflow": null,
       "overflow_x": null,
       "overflow_y": null,
       "padding": null,
       "right": null,
       "top": null,
       "visibility": null,
       "width": null
      }
     },
     "b9b4832169f94571b9bb9544d21e19f6": {
      "model_module": "@jupyter-widgets/base",
      "model_module_version": "1.2.0",
      "model_name": "LayoutModel",
      "state": {
       "_model_module": "@jupyter-widgets/base",
       "_model_module_version": "1.2.0",
       "_model_name": "LayoutModel",
       "_view_count": null,
       "_view_module": "@jupyter-widgets/base",
       "_view_module_version": "1.2.0",
       "_view_name": "LayoutView",
       "align_content": null,
       "align_items": null,
       "align_self": null,
       "border": null,
       "bottom": null,
       "display": null,
       "flex": null,
       "flex_flow": null,
       "grid_area": null,
       "grid_auto_columns": null,
       "grid_auto_flow": null,
       "grid_auto_rows": null,
       "grid_column": null,
       "grid_gap": null,
       "grid_row": null,
       "grid_template_areas": null,
       "grid_template_columns": null,
       "grid_template_rows": null,
       "height": null,
       "justify_content": null,
       "justify_items": null,
       "left": null,
       "margin": null,
       "max_height": null,
       "max_width": null,
       "min_height": null,
       "min_width": null,
       "object_fit": null,
       "object_position": null,
       "order": null,
       "overflow": null,
       "overflow_x": null,
       "overflow_y": null,
       "padding": null,
       "right": null,
       "top": null,
       "visibility": null,
       "width": null
      }
     },
     "d59db67ff08f46ff92c39cce68f78be0": {
      "model_module": "@jupyter-widgets/controls",
      "model_module_version": "1.5.0",
      "model_name": "FloatProgressModel",
      "state": {
       "_dom_classes": [],
       "_model_module": "@jupyter-widgets/controls",
       "_model_module_version": "1.5.0",
       "_model_name": "FloatProgressModel",
       "_view_count": null,
       "_view_module": "@jupyter-widgets/controls",
       "_view_module_version": "1.5.0",
       "_view_name": "ProgressView",
       "bar_style": "success",
       "description": "",
       "description_tooltip": null,
       "layout": "IPY_MODEL_5009a4f63f2b4b769a954d81e1dbaf89",
       "max": 170498071,
       "min": 0,
       "orientation": "horizontal",
       "style": "IPY_MODEL_7ece7a36769b4f26b16830aa2dbb9c56",
       "value": 170498071
      }
     },
     "da51cc4b273048fbb4e603d3008ace9e": {
      "model_module": "@jupyter-widgets/controls",
      "model_module_version": "1.5.0",
      "model_name": "DescriptionStyleModel",
      "state": {
       "_model_module": "@jupyter-widgets/controls",
       "_model_module_version": "1.5.0",
       "_model_name": "DescriptionStyleModel",
       "_view_count": null,
       "_view_module": "@jupyter-widgets/base",
       "_view_module_version": "1.2.0",
       "_view_name": "StyleView",
       "description_width": ""
      }
     },
     "e41e42f67fb141eb8ee4cdf21e4bc6dd": {
      "model_module": "@jupyter-widgets/controls",
      "model_module_version": "1.5.0",
      "model_name": "HTMLModel",
      "state": {
       "_dom_classes": [],
       "_model_module": "@jupyter-widgets/controls",
       "_model_module_version": "1.5.0",
       "_model_name": "HTMLModel",
       "_view_count": null,
       "_view_module": "@jupyter-widgets/controls",
       "_view_module_version": "1.5.0",
       "_view_name": "HTMLView",
       "description": "",
       "description_tooltip": null,
       "layout": "IPY_MODEL_ede5b8909e9d4442ba2de0371ef0dde7",
       "placeholder": "​",
       "style": "IPY_MODEL_08ca9eef10aa4dc3b74366d91ecb9d1c",
       "value": ""
      }
     },
     "ede5b8909e9d4442ba2de0371ef0dde7": {
      "model_module": "@jupyter-widgets/base",
      "model_module_version": "1.2.0",
      "model_name": "LayoutModel",
      "state": {
       "_model_module": "@jupyter-widgets/base",
       "_model_module_version": "1.2.0",
       "_model_name": "LayoutModel",
       "_view_count": null,
       "_view_module": "@jupyter-widgets/base",
       "_view_module_version": "1.2.0",
       "_view_name": "LayoutView",
       "align_content": null,
       "align_items": null,
       "align_self": null,
       "border": null,
       "bottom": null,
       "display": null,
       "flex": null,
       "flex_flow": null,
       "grid_area": null,
       "grid_auto_columns": null,
       "grid_auto_flow": null,
       "grid_auto_rows": null,
       "grid_column": null,
       "grid_gap": null,
       "grid_row": null,
       "grid_template_areas": null,
       "grid_template_columns": null,
       "grid_template_rows": null,
       "height": null,
       "justify_content": null,
       "justify_items": null,
       "left": null,
       "margin": null,
       "max_height": null,
       "max_width": null,
       "min_height": null,
       "min_width": null,
       "object_fit": null,
       "object_position": null,
       "order": null,
       "overflow": null,
       "overflow_x": null,
       "overflow_y": null,
       "padding": null,
       "right": null,
       "top": null,
       "visibility": null,
       "width": null
      }
     }
    },
    "version_major": 2,
    "version_minor": 0
   }
  }
 },
 "nbformat": 4,
 "nbformat_minor": 5
}
